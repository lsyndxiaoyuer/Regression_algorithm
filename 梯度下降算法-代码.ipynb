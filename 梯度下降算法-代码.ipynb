{
 "cells": [
  {
   "cell_type": "code",
   "execution_count": 70,
   "metadata": {},
   "outputs": [
    {
     "name": "stdout",
     "output_type": "stream",
     "text": [
      "[[215.92353346]\n",
      " [207.78940929]\n",
      " [199.42788191]\n",
      " [203.80458411]\n",
      " [217.26255639]\n",
      " [203.29795243]\n",
      " [202.33093231]\n",
      " [178.71628118]\n",
      " [190.50039919]\n",
      " [211.4288881 ]\n",
      " [198.99804656]\n",
      " [206.03996363]\n",
      " [216.32596611]\n",
      " [201.91385142]\n",
      " [195.05304032]\n",
      " [203.67579532]\n",
      " [210.75970774]\n",
      " [196.42509744]\n",
      " [203.6780764 ]\n",
      " [194.8799158 ]]\n"
     ]
    }
   ],
   "source": [
    "import numpy as np\n",
    "X = np.random.normal(10, 1, 100)\n",
    "X = np.reshape(X, (20, 5))\n",
    "noise = np.random.normal(0,1,20)\n",
    "y = np.dot(X, [6,4,5,3,2]) + 2 +noise\n",
    "y = np.reshape(y, (20,1))\n",
    "print(y)"
   ]
  },
  {
   "cell_type": "code",
   "execution_count": 129,
   "metadata": {},
   "outputs": [],
   "source": [
    "def myLinearRegression(X, y, alpha = 0.001,learning_count = 10000):\n",
    "    # alpha = 0.001\n",
    "    # learning_count = 10000\n",
    "    W = np.zeros(shape=[1,X.shape[1]])\n",
    "    b = 0\n",
    "\n",
    "    for i in range(learning_count):\n",
    "        y_h = np.dot(X, W.T) + b\n",
    "        lost = y_h - y\n",
    "        W = W - alpha * (1/len(X)) * np.dot(lost.T, X)\n",
    "        b = b - alpha * (1/len(X)) * lost.sum()\n",
    "        cost = (lost**2).sum(axis=0)/(2*len(X))\n",
    "    #     if i % 1000 ==0:\n",
    "    #         print(cost)\n",
    "    return W,b,cost"
   ]
  },
  {
   "cell_type": "code",
   "execution_count": 130,
   "metadata": {},
   "outputs": [
    {
     "name": "stdout",
     "output_type": "stream",
     "text": [
      "W=[[5.66253901 4.25669264 5.52046165 2.83412001 1.89523427]]\n",
      "b=0.5198712971589696\n",
      "cost=[0.64066825]\n"
     ]
    }
   ],
   "source": [
    "W,b,cost = myLinearRegression(X,y)\n",
    "print(f'W={W}\\nb={b}\\ncost={cost}')"
   ]
  },
  {
   "cell_type": "code",
   "execution_count": 79,
   "metadata": {},
   "outputs": [
    {
     "name": "stdout",
     "output_type": "stream",
     "text": [
      "[[213.81666493]\n",
      " [206.89466237]\n",
      " [197.88541273]\n",
      " [204.19820285]\n",
      " [215.75248211]\n",
      " [204.80067812]\n",
      " [204.25490858]\n",
      " [177.14853648]\n",
      " [190.11489493]\n",
      " [212.39503657]\n",
      " [197.57533952]\n",
      " [206.2629108 ]\n",
      " [217.44235575]\n",
      " [202.45662706]\n",
      " [195.68238646]\n",
      " [204.21409351]\n",
      " [211.73341511]\n",
      " [196.01217412]\n",
      " [204.48511306]\n",
      " [194.82953373]]\n"
     ]
    }
   ],
   "source": [
    "y_pre = np.dot(X, W.T) +b\n",
    "print(y_pre)"
   ]
  },
  {
   "cell_type": "code",
   "execution_count": 133,
   "metadata": {},
   "outputs": [
    {
     "name": "stdout",
     "output_type": "stream",
     "text": [
      "0.9845772340312445\n"
     ]
    }
   ],
   "source": [
    "# score = 1 - u/v\n",
    "u = ((y-y_pre)**2).sum()\n",
    "v = ((y-y.mean())**2).sum()\n",
    "score = 1-u/v\n",
    "print(score)"
   ]
  },
  {
   "cell_type": "code",
   "execution_count": 135,
   "metadata": {},
   "outputs": [
    {
     "name": "stdout",
     "output_type": "stream",
     "text": [
      "0.986563678562324\n"
     ]
    }
   ],
   "source": [
    "from sklearn.linear_model import LinearRegression\n",
    "model = LinearRegression()\n",
    "model.fit(X, y)\n",
    "score_sk=model.score(X,y)\n",
    "print(score_sk)"
   ]
  },
  {
   "cell_type": "code",
   "execution_count": null,
   "metadata": {},
   "outputs": [],
   "source": []
  }
 ],
 "metadata": {
  "kernelspec": {
   "display_name": "Python 3",
   "language": "python",
   "name": "python3"
  },
  "language_info": {
   "codemirror_mode": {
    "name": "ipython",
    "version": 3
   },
   "file_extension": ".py",
   "mimetype": "text/x-python",
   "name": "python",
   "nbconvert_exporter": "python",
   "pygments_lexer": "ipython3",
   "version": "3.8.5"
  }
 },
 "nbformat": 4,
 "nbformat_minor": 4
}
